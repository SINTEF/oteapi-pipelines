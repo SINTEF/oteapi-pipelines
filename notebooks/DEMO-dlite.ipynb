{
 "cells": [
  {
   "cell_type": "code",
   "execution_count": 1,
   "id": "11544030-eb82-4bfa-8b6e-c6833b66e750",
   "metadata": {},
   "outputs": [
    {
     "name": "stdout",
     "output_type": "stream",
     "text": [
      "<otelib.client.OTEClient object at 0x0000028F16C23A30>\n"
     ]
    }
   ],
   "source": [
    "from otelib import OTEClient\n",
    "from pathlib import Path\n",
    "\n",
    "client = OTEClient(\"http://localhost:8080\")\n",
    "print(client)"
   ]
  },
  {
   "cell_type": "code",
   "execution_count": 2,
   "id": "aa609cc6-9988-4f53-9897-b0d642ee1905",
   "metadata": {},
   "outputs": [
    {
     "data": {
      "text/plain": [
       "'dataresource-6fe80819-74e4-4f92-82f8-ff9f7c4d6a1c'"
      ]
     },
     "execution_count": 2,
     "metadata": {},
     "output_type": "execute_result"
    }
   ],
   "source": [
    "data_resource = client.create_dataresource(\n",
    "    downloadUrl=\"https://raw.githubusercontent.com/Treesarj/Test/main/test.json\",\n",
    "    mediaType=\"application/json\",\n",
    "    resourceType=\"resource/url\",    \n",
    ")\n",
    "data_resource.strategy_id"
   ]
  },
  {
   "cell_type": "code",
   "execution_count": 3,
   "id": "a7047aa0-8a66-4996-b250-08782d4f9d04",
   "metadata": {},
   "outputs": [
    {
     "data": {
      "text/plain": [
       "'parser-ca5e6141-35e3-4943-8ebe-7ff665a60885'"
      ]
     },
     "execution_count": 3,
     "metadata": {},
     "output_type": "execute_result"
    }
   ],
   "source": [
    "parser = client.create_parser(\n",
    "    entity=\"http://onto-ns.com/meta/0.4/HallPetch\",\n",
    "    parserType=\"json/vnd.dlite-json\",\n",
    "    configuration={ \"storage_path\":\"/entities\"}\n",
    ")\n",
    "parser.strategy_id"
   ]
  },
  {
   "cell_type": "code",
   "execution_count": 4,
   "id": "53eb3c7b-776a-4d8c-90cf-aeb1d9ed302f",
   "metadata": {},
   "outputs": [
    {
     "data": {
      "text/plain": [
       "'mapping-c44840bb-3903-446e-87df-063a5c72c5f8'"
      ]
     },
     "execution_count": 4,
     "metadata": {},
     "output_type": "execute_result"
    }
   ],
   "source": [
    "dataMappings = [(\"http://onto-ns.com/meta/0.4/HallPetch#theta0\",   \"http://emmo.info/domain-mappings#mapsTo\",  \"http://hall_petch.info/hp.YeildStrength\"),\n",
    "               (\"http://onto-ns.com/meta/0.4/HallPetch#k\",   \"http://emmo.info/domain-mappings#mapsTo\",  \"http://hall_petch.info/hp.Coefficient\"),\n",
    "               (\"http://onto-ns.com/meta/0.4/HallPetch#d\",   \"http://emmo.info/domain-mappings#mapsTo\",  \"http://hall_petch.info/hp.GrainSize\")]\n",
    "mapping =  client.create_mapping(mappingType=\"mappings\",\n",
    "    triples = dataMappings,\n",
    "    configuration={\n",
    "    }     )\n",
    "mapping.strategy_id"
   ]
  },
  {
   "cell_type": "code",
   "execution_count": 5,
   "id": "73df905f-8635-432b-805d-ad8023a93c31",
   "metadata": {},
   "outputs": [
    {
     "data": {
      "text/plain": [
       "'mapping-c6c6bcf8-6369-4fad-8609-259079ad7066'"
      ]
     },
     "execution_count": 5,
     "metadata": {},
     "output_type": "execute_result"
    }
   ],
   "source": [
    "dataMappings2 = [(\"http://onto-ns.com/meta/0.4/HallPetch2#theta02\",   \"http://emmo.info/domain-mappings#mapsTo\",  \"http://hall_petch.info/hp.YeildStrength\"),\n",
    "               (\"http://onto-ns.com/meta/0.4/HallPetch2#k2\",   \"http://emmo.info/domain-mappings#mapsTo\",  \"http://hall_petch.info/hp.Coefficient\"),\n",
    "               (\"http://onto-ns.com/meta/0.4/HallPetch2#d2\",   \"http://emmo.info/domain-mappings#mapsTo\",  \"http://hall_petch.info/hp.GrainSize\")]\n",
    "\n",
    "mapping2 =  client.create_mapping(\n",
    "    mappingType=\"mappings\",\n",
    "    triples = dataMappings2,\n",
    "    configuration={}   \n",
    "    )\n",
    "mapping2.strategy_id"
   ]
  },
  {
   "cell_type": "code",
   "execution_count": 6,
   "id": "58f07f99-dc7f-4a0e-a96c-b482c011170f",
   "metadata": {},
   "outputs": [
    {
     "data": {
      "text/plain": [
       "'function-98c6f9ca-d731-4c3f-956d-d4c8922703bd'"
      ]
     },
     "execution_count": 6,
     "metadata": {},
     "output_type": "execute_result"
    }
   ],
   "source": [
    "generate =  client.create_function(\n",
    "    functionType=\"application/vnd.dlite-generate\",\n",
    "    configuration={\n",
    "  \"driver\": \"json\",\n",
    "  \"location\": \"/output/hp.json\",\n",
    "  \"datamodel\": \"http://onto-ns.com/meta/0.4/HallPetch2\"\n",
    "}  \n",
    "    )\n",
    "generate.strategy_id"
   ]
  },
  {
   "cell_type": "code",
   "execution_count": 7,
   "id": "6c308fe7-5823-42fe-8a41-0307b48a9d54",
   "metadata": {},
   "outputs": [],
   "source": [
    "pipeline = data_resource >> parser >> mapping >>mapping2 >> generate"
   ]
  },
  {
   "cell_type": "code",
   "execution_count": 8,
   "id": "d479b49f-5f35-48e1-9086-eaeaf1a402e6",
   "metadata": {},
   "outputs": [
    {
     "ename": "ApiError",
     "evalue": "ApiError: status=500 Cannot fetch parser: session_id='session-19a9412a-edf3-47f3-bd46-459007405555' parser_id='parser-ca5e6141-35e3-4943-8ebe-7ff665a60885'",
     "output_type": "error",
     "traceback": [
      "\u001b[1;31m---------------------------------------------------------------------------\u001b[0m",
      "\u001b[1;31mApiError\u001b[0m                                  Traceback (most recent call last)",
      "Cell \u001b[1;32mIn[8], line 1\u001b[0m\n\u001b[1;32m----> 1\u001b[0m \u001b[43mpipeline\u001b[49m\u001b[38;5;241;43m.\u001b[39;49m\u001b[43mget\u001b[49m\u001b[43m(\u001b[49m\u001b[43m)\u001b[49m\n",
      "File \u001b[1;32m~\\AppData\\Local\\Programs\\Python\\Python310\\lib\\site-packages\\otelib\\backends\\strategies.py:95\u001b[0m, in \u001b[0;36mAbstractBaseStrategy.get\u001b[1;34m(self, session_id)\u001b[0m\n\u001b[0;32m     93\u001b[0m \u001b[38;5;28mself\u001b[39m\u001b[38;5;241m.\u001b[39minitialize(session_id)\n\u001b[0;32m     94\u001b[0m \u001b[38;5;28;01mif\u001b[39;00m \u001b[38;5;28mself\u001b[39m\u001b[38;5;241m.\u001b[39minput_pipe:\n\u001b[1;32m---> 95\u001b[0m     \u001b[38;5;28;43mself\u001b[39;49m\u001b[38;5;241;43m.\u001b[39;49m\u001b[43minput_pipe\u001b[49m\u001b[38;5;241;43m.\u001b[39;49m\u001b[43mget\u001b[49m\u001b[43m(\u001b[49m\u001b[43msession_id\u001b[49m\u001b[43m)\u001b[49m\n\u001b[0;32m     96\u001b[0m \u001b[38;5;28;01mreturn\u001b[39;00m \u001b[38;5;28mself\u001b[39m\u001b[38;5;241m.\u001b[39mfetch(session_id)\n",
      "File \u001b[1;32m~\\AppData\\Local\\Programs\\Python\\Python310\\lib\\site-packages\\otelib\\pipe.py:19\u001b[0m, in \u001b[0;36mPipe.get\u001b[1;34m(self, session_id)\u001b[0m\n\u001b[0;32m     17\u001b[0m \u001b[38;5;28;01mdef\u001b[39;00m \u001b[38;5;21mget\u001b[39m(\u001b[38;5;28mself\u001b[39m, session_id: \u001b[38;5;124m\"\u001b[39m\u001b[38;5;124mOptional[str]\u001b[39m\u001b[38;5;124m\"\u001b[39m \u001b[38;5;241m=\u001b[39m \u001b[38;5;28;01mNone\u001b[39;00m) \u001b[38;5;241m-\u001b[39m\u001b[38;5;241m>\u001b[39m \u001b[38;5;28mbytes\u001b[39m:\n\u001b[0;32m     18\u001b[0m \u001b[38;5;250m    \u001b[39m\u001b[38;5;124;03m\"\"\"Call the input strategy's `get()` method.\"\"\"\u001b[39;00m\n\u001b[1;32m---> 19\u001b[0m     \u001b[38;5;28;01mreturn\u001b[39;00m \u001b[38;5;28;43mself\u001b[39;49m\u001b[38;5;241;43m.\u001b[39;49m\u001b[43minput\u001b[49m\u001b[38;5;241;43m.\u001b[39;49m\u001b[43mget\u001b[49m\u001b[43m(\u001b[49m\u001b[43msession_id\u001b[49m\u001b[43m)\u001b[49m\n",
      "File \u001b[1;32m~\\AppData\\Local\\Programs\\Python\\Python310\\lib\\site-packages\\otelib\\backends\\strategies.py:95\u001b[0m, in \u001b[0;36mAbstractBaseStrategy.get\u001b[1;34m(self, session_id)\u001b[0m\n\u001b[0;32m     93\u001b[0m \u001b[38;5;28mself\u001b[39m\u001b[38;5;241m.\u001b[39minitialize(session_id)\n\u001b[0;32m     94\u001b[0m \u001b[38;5;28;01mif\u001b[39;00m \u001b[38;5;28mself\u001b[39m\u001b[38;5;241m.\u001b[39minput_pipe:\n\u001b[1;32m---> 95\u001b[0m     \u001b[38;5;28;43mself\u001b[39;49m\u001b[38;5;241;43m.\u001b[39;49m\u001b[43minput_pipe\u001b[49m\u001b[38;5;241;43m.\u001b[39;49m\u001b[43mget\u001b[49m\u001b[43m(\u001b[49m\u001b[43msession_id\u001b[49m\u001b[43m)\u001b[49m\n\u001b[0;32m     96\u001b[0m \u001b[38;5;28;01mreturn\u001b[39;00m \u001b[38;5;28mself\u001b[39m\u001b[38;5;241m.\u001b[39mfetch(session_id)\n",
      "File \u001b[1;32m~\\AppData\\Local\\Programs\\Python\\Python310\\lib\\site-packages\\otelib\\pipe.py:19\u001b[0m, in \u001b[0;36mPipe.get\u001b[1;34m(self, session_id)\u001b[0m\n\u001b[0;32m     17\u001b[0m \u001b[38;5;28;01mdef\u001b[39;00m \u001b[38;5;21mget\u001b[39m(\u001b[38;5;28mself\u001b[39m, session_id: \u001b[38;5;124m\"\u001b[39m\u001b[38;5;124mOptional[str]\u001b[39m\u001b[38;5;124m\"\u001b[39m \u001b[38;5;241m=\u001b[39m \u001b[38;5;28;01mNone\u001b[39;00m) \u001b[38;5;241m-\u001b[39m\u001b[38;5;241m>\u001b[39m \u001b[38;5;28mbytes\u001b[39m:\n\u001b[0;32m     18\u001b[0m \u001b[38;5;250m    \u001b[39m\u001b[38;5;124;03m\"\"\"Call the input strategy's `get()` method.\"\"\"\u001b[39;00m\n\u001b[1;32m---> 19\u001b[0m     \u001b[38;5;28;01mreturn\u001b[39;00m \u001b[38;5;28;43mself\u001b[39;49m\u001b[38;5;241;43m.\u001b[39;49m\u001b[43minput\u001b[49m\u001b[38;5;241;43m.\u001b[39;49m\u001b[43mget\u001b[49m\u001b[43m(\u001b[49m\u001b[43msession_id\u001b[49m\u001b[43m)\u001b[49m\n",
      "File \u001b[1;32m~\\AppData\\Local\\Programs\\Python\\Python310\\lib\\site-packages\\otelib\\backends\\strategies.py:95\u001b[0m, in \u001b[0;36mAbstractBaseStrategy.get\u001b[1;34m(self, session_id)\u001b[0m\n\u001b[0;32m     93\u001b[0m \u001b[38;5;28mself\u001b[39m\u001b[38;5;241m.\u001b[39minitialize(session_id)\n\u001b[0;32m     94\u001b[0m \u001b[38;5;28;01mif\u001b[39;00m \u001b[38;5;28mself\u001b[39m\u001b[38;5;241m.\u001b[39minput_pipe:\n\u001b[1;32m---> 95\u001b[0m     \u001b[38;5;28;43mself\u001b[39;49m\u001b[38;5;241;43m.\u001b[39;49m\u001b[43minput_pipe\u001b[49m\u001b[38;5;241;43m.\u001b[39;49m\u001b[43mget\u001b[49m\u001b[43m(\u001b[49m\u001b[43msession_id\u001b[49m\u001b[43m)\u001b[49m\n\u001b[0;32m     96\u001b[0m \u001b[38;5;28;01mreturn\u001b[39;00m \u001b[38;5;28mself\u001b[39m\u001b[38;5;241m.\u001b[39mfetch(session_id)\n",
      "File \u001b[1;32m~\\AppData\\Local\\Programs\\Python\\Python310\\lib\\site-packages\\otelib\\pipe.py:19\u001b[0m, in \u001b[0;36mPipe.get\u001b[1;34m(self, session_id)\u001b[0m\n\u001b[0;32m     17\u001b[0m \u001b[38;5;28;01mdef\u001b[39;00m \u001b[38;5;21mget\u001b[39m(\u001b[38;5;28mself\u001b[39m, session_id: \u001b[38;5;124m\"\u001b[39m\u001b[38;5;124mOptional[str]\u001b[39m\u001b[38;5;124m\"\u001b[39m \u001b[38;5;241m=\u001b[39m \u001b[38;5;28;01mNone\u001b[39;00m) \u001b[38;5;241m-\u001b[39m\u001b[38;5;241m>\u001b[39m \u001b[38;5;28mbytes\u001b[39m:\n\u001b[0;32m     18\u001b[0m \u001b[38;5;250m    \u001b[39m\u001b[38;5;124;03m\"\"\"Call the input strategy's `get()` method.\"\"\"\u001b[39;00m\n\u001b[1;32m---> 19\u001b[0m     \u001b[38;5;28;01mreturn\u001b[39;00m \u001b[38;5;28;43mself\u001b[39;49m\u001b[38;5;241;43m.\u001b[39;49m\u001b[43minput\u001b[49m\u001b[38;5;241;43m.\u001b[39;49m\u001b[43mget\u001b[49m\u001b[43m(\u001b[49m\u001b[43msession_id\u001b[49m\u001b[43m)\u001b[49m\n",
      "File \u001b[1;32m~\\AppData\\Local\\Programs\\Python\\Python310\\lib\\site-packages\\otelib\\backends\\strategies.py:96\u001b[0m, in \u001b[0;36mAbstractBaseStrategy.get\u001b[1;34m(self, session_id)\u001b[0m\n\u001b[0;32m     94\u001b[0m \u001b[38;5;28;01mif\u001b[39;00m \u001b[38;5;28mself\u001b[39m\u001b[38;5;241m.\u001b[39minput_pipe:\n\u001b[0;32m     95\u001b[0m     \u001b[38;5;28mself\u001b[39m\u001b[38;5;241m.\u001b[39minput_pipe\u001b[38;5;241m.\u001b[39mget(session_id)\n\u001b[1;32m---> 96\u001b[0m \u001b[38;5;28;01mreturn\u001b[39;00m \u001b[38;5;28;43mself\u001b[39;49m\u001b[38;5;241;43m.\u001b[39;49m\u001b[43mfetch\u001b[49m\u001b[43m(\u001b[49m\u001b[43msession_id\u001b[49m\u001b[43m)\u001b[49m\n",
      "File \u001b[1;32m~\\AppData\\Local\\Programs\\Python\\Python310\\lib\\site-packages\\otelib\\backends\\services\\base.py:90\u001b[0m, in \u001b[0;36mBaseServicesStrategy.fetch\u001b[1;34m(self, session_id)\u001b[0m\n\u001b[0;32m     84\u001b[0m     \u001b[38;5;28;01mreturn\u001b[39;00m response\u001b[38;5;241m.\u001b[39mcontent\n\u001b[0;32m     85\u001b[0m strategy_name \u001b[38;5;241m=\u001b[39m (\n\u001b[0;32m     86\u001b[0m     \u001b[38;5;28mself\u001b[39m\u001b[38;5;241m.\u001b[39mstrategy_name[\u001b[38;5;28mlen\u001b[39m(\u001b[38;5;124m\"\u001b[39m\u001b[38;5;124mdata\u001b[39m\u001b[38;5;124m\"\u001b[39m) :]\n\u001b[0;32m     87\u001b[0m     \u001b[38;5;28;01mif\u001b[39;00m \u001b[38;5;28mself\u001b[39m\u001b[38;5;241m.\u001b[39mstrategy_name\u001b[38;5;241m.\u001b[39mstartswith(\u001b[38;5;124m\"\u001b[39m\u001b[38;5;124mdata\u001b[39m\u001b[38;5;124m\"\u001b[39m)\n\u001b[0;32m     88\u001b[0m     \u001b[38;5;28;01melse\u001b[39;00m \u001b[38;5;28mself\u001b[39m\u001b[38;5;241m.\u001b[39mstrategy_name\n\u001b[0;32m     89\u001b[0m )\n\u001b[1;32m---> 90\u001b[0m \u001b[38;5;28;01mraise\u001b[39;00m ApiError(\n\u001b[0;32m     91\u001b[0m     \u001b[38;5;124mf\u001b[39m\u001b[38;5;124m\"\u001b[39m\u001b[38;5;124mCannot fetch \u001b[39m\u001b[38;5;132;01m{\u001b[39;00m\u001b[38;5;28mself\u001b[39m\u001b[38;5;241m.\u001b[39mstrategy_name\u001b[38;5;132;01m}\u001b[39;00m\u001b[38;5;124m: session_id=\u001b[39m\u001b[38;5;132;01m{\u001b[39;00msession_id\u001b[38;5;132;01m!r}\u001b[39;00m\u001b[38;5;124m \u001b[39m\u001b[38;5;124m\"\u001b[39m\n\u001b[0;32m     92\u001b[0m     \u001b[38;5;124mf\u001b[39m\u001b[38;5;124m\"\u001b[39m\u001b[38;5;132;01m{\u001b[39;00mstrategy_name\u001b[38;5;132;01m}\u001b[39;00m\u001b[38;5;124m_id=\u001b[39m\u001b[38;5;132;01m{\u001b[39;00m\u001b[38;5;28mself\u001b[39m\u001b[38;5;241m.\u001b[39mstrategy_id\u001b[38;5;132;01m!r}\u001b[39;00m\u001b[38;5;124m\"\u001b[39m\n\u001b[0;32m     93\u001b[0m     \u001b[38;5;124mf\u001b[39m\u001b[38;5;124m\"\u001b[39m\u001b[38;5;132;01m{\u001b[39;00m\u001b[38;5;124m'\u001b[39m\u001b[38;5;124m content=\u001b[39m\u001b[38;5;124m'\u001b[39m\u001b[38;5;250m \u001b[39m\u001b[38;5;241m+\u001b[39m\u001b[38;5;250m \u001b[39m\u001b[38;5;28mstr\u001b[39m(response\u001b[38;5;241m.\u001b[39mcontent)\u001b[38;5;250m \u001b[39m\u001b[38;5;28;01mif\u001b[39;00m\u001b[38;5;250m \u001b[39m\u001b[38;5;28mself\u001b[39m\u001b[38;5;241m.\u001b[39mdebug\u001b[38;5;250m \u001b[39m\u001b[38;5;28;01melse\u001b[39;00m\u001b[38;5;250m \u001b[39m\u001b[38;5;124m'\u001b[39m\u001b[38;5;124m'\u001b[39m\u001b[38;5;132;01m}\u001b[39;00m\u001b[38;5;124m\"\u001b[39m,\n\u001b[0;32m     94\u001b[0m     status\u001b[38;5;241m=\u001b[39mresponse\u001b[38;5;241m.\u001b[39mstatus_code,\n\u001b[0;32m     95\u001b[0m )\n",
      "\u001b[1;31mApiError\u001b[0m: ApiError: status=500 Cannot fetch parser: session_id='session-19a9412a-edf3-47f3-bd46-459007405555' parser_id='parser-ca5e6141-35e3-4943-8ebe-7ff665a60885'"
     ]
    }
   ],
   "source": [
    "pipeline.get()"
   ]
  },
  {
   "cell_type": "code",
   "execution_count": null,
   "id": "f9d531a7-3d58-4c34-9c9f-0718833bad21",
   "metadata": {},
   "outputs": [],
   "source": []
  },
  {
   "cell_type": "code",
   "execution_count": null,
   "id": "dcfa95c9-cfb2-49b7-88ed-6fbff3659b10",
   "metadata": {},
   "outputs": [],
   "source": []
  }
 ],
 "metadata": {
  "kernelspec": {
   "display_name": "Python 3 (ipykernel)",
   "language": "python",
   "name": "python3"
  },
  "language_info": {
   "codemirror_mode": {
    "name": "ipython",
    "version": 3
   },
   "file_extension": ".py",
   "mimetype": "text/x-python",
   "name": "python",
   "nbconvert_exporter": "python",
   "pygments_lexer": "ipython3",
   "version": "3.10.9"
  }
 },
 "nbformat": 4,
 "nbformat_minor": 5
}
