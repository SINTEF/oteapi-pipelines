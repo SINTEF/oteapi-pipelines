{
 "cells": [
  {
   "cell_type": "code",
   "execution_count": 1,
   "id": "11544030-eb82-4bfa-8b6e-c6833b66e750",
   "metadata": {},
   "outputs": [
    {
     "name": "stdout",
     "output_type": "stream",
     "text": [
      "<otelib.client.OTEClient object at 0x00000192D311BF40>\n"
     ]
    }
   ],
   "source": [
    "from otelib import OTEClient\n",
    "from pathlib import Path\n",
    "\n",
    "client = OTEClient(\"http://localhost:8080\")\n",
    "print(client)"
   ]
  },
  {
   "cell_type": "code",
   "execution_count": 2,
   "id": "aa609cc6-9988-4f53-9897-b0d642ee1905",
   "metadata": {},
   "outputs": [
    {
     "data": {
      "text/plain": [
       "'dataresource-b52eff3d-f697-4e6e-83aa-06492c62bead'"
      ]
     },
     "execution_count": 2,
     "metadata": {},
     "output_type": "execute_result"
    }
   ],
   "source": [
    "data_resource = client.create_dataresource(\n",
    "    downloadUrl=\"https://raw.githubusercontent.com/Treesarj/Test/main/test.json\",\n",
    "    mediaType=\"application/json\",\n",
    "    resourceType=\"resource/url\",    \n",
    ")\n",
    "data_resource.strategy_id"
   ]
  },
  {
   "cell_type": "code",
   "execution_count": 3,
   "id": "a7047aa0-8a66-4996-b250-08782d4f9d04",
   "metadata": {},
   "outputs": [
    {
     "data": {
      "text/plain": [
       "'parser-10409e03-d7cc-48b5-957c-9e6efe2555c5'"
      ]
     },
     "execution_count": 3,
     "metadata": {},
     "output_type": "execute_result"
    }
   ],
   "source": [
    "parser = client.create_parser(\n",
    "    entity=\"http://onto-ns.com/meta/0.4/HallPetch\",\n",
    "    parserType=\"json/vnd.dlite-json\",\n",
    "    configuration={ \"storage_path\":\"https://raw.githubusercontent.com/Treesarj/Test/main/HallPetch.json\"}\n",
    ")\n",
    "parser.strategy_id"
   ]
  },
  {
   "cell_type": "code",
   "execution_count": 4,
   "id": "53eb3c7b-776a-4d8c-90cf-aeb1d9ed302f",
   "metadata": {},
   "outputs": [
    {
     "data": {
      "text/plain": [
       "'mapping-dcee225f-aa61-4086-8b23-32bad30cd37e'"
      ]
     },
     "execution_count": 4,
     "metadata": {},
     "output_type": "execute_result"
    }
   ],
   "source": [
    "dataMappings = [(\"http://onto-ns.com/meta/0.4/HallPetch#theta0\",   \"http://emmo.info/domain-mappings#mapsTo\",  \"http://hall_petch.info/hp.YeildStrength\"),\n",
    "               (\"http://onto-ns.com/meta/0.4/HallPetch#k\",   \"http://emmo.info/domain-mappings#mapsTo\",  \"http://hall_petch.info/hp.Coefficient\"),\n",
    "               (\"http://onto-ns.com/meta/0.4/HallPetch#d\",   \"http://emmo.info/domain-mappings#mapsTo\",  \"http://hall_petch.info/hp.GrainSize\")]\n",
    "mapping =  client.create_mapping(mappingType=\"mappings\",\n",
    "    triples = dataMappings,\n",
    "    configuration={\n",
    "    }     )\n",
    "mapping.strategy_id"
   ]
  },
  {
   "cell_type": "code",
   "execution_count": 5,
   "id": "73df905f-8635-432b-805d-ad8023a93c31",
   "metadata": {},
   "outputs": [
    {
     "data": {
      "text/plain": [
       "'mapping-e8288194-c5ff-451b-afe1-aed7e6380d73'"
      ]
     },
     "execution_count": 5,
     "metadata": {},
     "output_type": "execute_result"
    }
   ],
   "source": [
    "dataMappings2 = [(\"http://onto-ns.com/meta/0.4/HallPetch2#theta02\",   \"http://emmo.info/domain-mappings#mapsTo\",  \"http://hall_petch.info/hp.YeildStrength\"),\n",
    "               (\"http://onto-ns.com/meta/0.4/HallPetch2#k2\",   \"http://emmo.info/domain-mappings#mapsTo\",  \"http://hall_petch.info/hp.Coefficient\"),\n",
    "               (\"http://onto-ns.com/meta/0.4/HallPetch2#d2\",   \"http://emmo.info/domain-mappings#mapsTo\",  \"http://hall_petch.info/hp.GrainSize\")]\n",
    "\n",
    "mapping2 =  client.create_mapping(\n",
    "    mappingType=\"mappings\",\n",
    "    triples = dataMappings2,\n",
    "    configuration={}   \n",
    "    )\n",
    "mapping2.strategy_id"
   ]
  },
  {
   "cell_type": "code",
   "execution_count": 6,
   "id": "58f07f99-dc7f-4a0e-a96c-b482c011170f",
   "metadata": {},
   "outputs": [
    {
     "data": {
      "text/plain": [
       "'function-12adf924-5831-45f9-94ca-d164b4d431d6'"
      ]
     },
     "execution_count": 6,
     "metadata": {},
     "output_type": "execute_result"
    }
   ],
   "source": [
    "generate =  client.create_function(\n",
    "    functionType=\"application/vnd.dlite-generate\",\n",
    "    configuration={\n",
    "  \"driver\": \"json\",\n",
    "  \"location\": \"./../demo/output/hp.json\",\n",
    "  \"datamodel\": \"http://onto-ns.com/meta/0.4/HallPetch2\"\n",
    "}  \n",
    "    )\n",
    "generate.strategy_id"
   ]
  },
  {
   "cell_type": "code",
   "execution_count": 7,
   "id": "6c308fe7-5823-42fe-8a41-0307b48a9d54",
   "metadata": {},
   "outputs": [],
   "source": [
    "pipeline = data_resource >> parser >> mapping >>mapping2 >> generate"
   ]
  },
  {
   "cell_type": "code",
   "execution_count": 8,
   "id": "d479b49f-5f35-48e1-9086-eaeaf1a402e6",
   "metadata": {},
   "outputs": [
    {
     "data": {
      "text/plain": [
       "b'{\"collection_id\":\"08a67bc6-cb6b-4487-b1e6-c176f6ef1cee\"}'"
      ]
     },
     "execution_count": 8,
     "metadata": {},
     "output_type": "execute_result"
    }
   ],
   "source": [
    "pipeline.get()"
   ]
  }
 ],
 "metadata": {
  "kernelspec": {
   "display_name": "Python 3 (ipykernel)",
   "language": "python",
   "name": "python3"
  },
  "language_info": {
   "codemirror_mode": {
    "name": "ipython",
    "version": 3
   },
   "file_extension": ".py",
   "mimetype": "text/x-python",
   "name": "python",
   "nbconvert_exporter": "python",
   "pygments_lexer": "ipython3",
   "version": "3.10.9"
  }
 },
 "nbformat": 4,
 "nbformat_minor": 5
}
