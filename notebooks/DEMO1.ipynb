{
 "cells": [
  {
   "cell_type": "code",
   "execution_count": null,
   "id": "11544030-eb82-4bfa-8b6e-c6833b66e750",
   "metadata": {},
   "outputs": [
    {
     "name": "stdout",
     "output_type": "stream",
     "text": [
      "<otelib.client.OTEClient object at 0x0000021DF9A6B610>\n"
     ]
    }
   ],
   "source": [
    "from otelib import OTEClient\n",
    "from pathlib import Path\n",
    "\n",
    "client = OTEClient(\"http://localhost:8080\")\n",
    "print(client)"
   ]
  },
  {
   "cell_type": "code",
   "execution_count": null,
   "id": "aa609cc6-9988-4f53-9897-b0d642ee1905",
   "metadata": {},
   "outputs": [
    {
     "data": {
      "text/plain": [
       "'dataresource-010ffab6-ebf6-4cc9-a485-6f5fad9a90a8'"
      ]
     },
     "execution_count": 2,
     "metadata": {},
     "output_type": "execute_result"
    }
   ],
   "source": [
    "data_resource = client.create_dataresource(\n",
    "    downloadUrl=\"https://raw.githubusercontent.com/SINTEF/oteapi-pipelines/main/input/hallpetch.json\",\n",
    "    mediaType=\"application/json\",\n",
    "    resourceType=\"resource/url\",\n",
    ")\n",
    "data_resource.strategy_id"
   ]
  },
  {
   "cell_type": "code",
   "execution_count": null,
   "id": "a7047aa0-8a66-4996-b250-08782d4f9d04",
   "metadata": {},
   "outputs": [
    {
     "data": {
      "text/plain": [
       "'parser-1ae060c3-ca84-42f4-b12d-a6f6e3fc24e8'"
      ]
     },
     "execution_count": 3,
     "metadata": {},
     "output_type": "execute_result"
    }
   ],
   "source": [
    "parser = client.create_parser(\n",
    "    entity=\"http://onto-ns.com/meta/0.4/dummy_entity\",\n",
    "    parserType=\"parser/json\",\n",
    ")\n",
    "parser.strategy_id"
   ]
  },
  {
   "cell_type": "code",
   "execution_count": null,
   "id": "b36fd235-8001-4bd2-bb06-78ece35a17fa",
   "metadata": {},
   "outputs": [],
   "source": [
    "pipeline = data_resource >> parser"
   ]
  },
  {
   "cell_type": "code",
   "execution_count": null,
   "id": "668da8ce-ddfd-4335-8685-2a6065a72eb2",
   "metadata": {},
   "outputs": [
    {
     "data": {
      "text/plain": [
       "b'{\"content\":{\"firstName\":\"Joe\",\"lastName\":\"Jackson\",\"gender\":\"male\",\"age\":28,\"address\":{\"streetAddress\":\"101\",\"city\":\"San Diego\",\"state\":\"CA\"},\"phoneNumbers\":[{\"type\":\"home\",\"number\":\"7349282382\"}]}}'"
      ]
     },
     "execution_count": 5,
     "metadata": {},
     "output_type": "execute_result"
    }
   ],
   "source": [
    "pipeline.get()"
   ]
  }
 ],
 "metadata": {
  "kernelspec": {
   "display_name": "Python 3 (ipykernel)",
   "language": "python",
   "name": "python3"
  },
  "language_info": {
   "codemirror_mode": {
    "name": "ipython",
    "version": 3
   },
   "file_extension": ".py",
   "mimetype": "text/x-python",
   "name": "python",
   "nbconvert_exporter": "python",
   "pygments_lexer": "ipython3",
   "version": "3.10.9"
  }
 },
 "nbformat": 4,
 "nbformat_minor": 5
}
